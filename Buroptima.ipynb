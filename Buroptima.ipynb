{
 "cells": [
  {
   "cell_type": "code",
   "execution_count": 1,
   "metadata": {},
   "outputs": [],
   "source": [
    "import pandas as pd\n",
    "import matplotlib.pyplot as plt"
   ]
  },
  {
   "cell_type": "code",
   "execution_count": 2,
   "metadata": {
    "scrolled": true
   },
   "outputs": [
    {
     "name": "stderr",
     "output_type": "stream",
     "text": [
      "C:\\ProgramData\\Anaconda3\\lib\\site-packages\\openpyxl\\worksheet\\_reader.py:312: UserWarning: Data Validation extension is not supported and will be removed\n",
      "  warn(msg)\n"
     ]
    }
   ],
   "source": [
    "#importing master files\n",
    "master = pd.read_excel('Master_File_UNGKM.xlsx',sheet_name=\"2A03\")\n",
    "master1 = pd.read_excel('Master_File_UNGKM.xlsx',sheet_name=\"2А27\") \n",
    "master2 = pd.read_excel('Master_File_UNGKM.xlsx',sheet_name=\"2А24\") \n",
    "master3 = pd.read_excel('Master_File_UNGKM.xlsx',sheet_name=\"2А28\") \n",
    "master4 = pd.read_excel('Master_File_UNGKM.xlsx',sheet_name=\"4А16\") \n",
    "master5 = pd.read_excel('Master_File_UNGKM.xlsx',sheet_name=\"4А23\") \n",
    "master6 = pd.read_excel('Master_File_UNGKM.xlsx',sheet_name=\"5А10\") \n",
    "master7 = pd.read_excel('Master_File_UNGKM.xlsx',sheet_name=\"5А15\") \n",
    "master8 = pd.read_excel('Master_File_UNGKM.xlsx',sheet_name=\"5А16\") \n",
    "master9 = pd.read_excel('Master_File_UNGKM.xlsx',sheet_name=\"2А27 1БИС\") "
   ]
  },
  {
   "cell_type": "code",
   "execution_count": 3,
   "metadata": {},
   "outputs": [],
   "source": [
    "report = pd.read_excel('Report_2A03.xlsm',sheet_name='Детализация',header=4)\n",
    "#otchot = otchot.iloc[2:12,:19]"
   ]
  },
  {
   "cell_type": "code",
   "execution_count": 4,
   "metadata": {},
   "outputs": [],
   "source": [
    "#Section - 5\n",
    "#Depth - 12\n",
    "#Accumulated time - 13\n",
    "#Time - 17\n",
    "#Operation type - 19\n",
    "#Time type - 27"
   ]
  },
  {
   "cell_type": "code",
   "execution_count": 15,
   "metadata": {},
   "outputs": [],
   "source": [
    "def master_processing(data, well):\n",
    "    data1 = data.iloc[:,[5,12,13,17,26,27]]\n",
    "    data1 = data1.loc[data['№ скв'] == well]\n",
    "    data1.columns = ['Section','Depth','Acc_time','Time','Penetration','Operation']\n",
    "    return data1"
   ]
  },
  {
   "cell_type": "code",
   "execution_count": 6,
   "metadata": {},
   "outputs": [],
   "source": [
    "def plot_well(data):\n",
    "    plt.style.use('seaborn')\n",
    "    fig, ax = plt.subplots(1,1,figsize=(10,10))\n",
    "    ax.set_title('Depth vs Accumulated time')\n",
    "    ax.set_xlabel('Accumulated time, days')\n",
    "    ax.set_ylabel('Depth, m')\n",
    "    ax.plot(data.Acc_time, data.Depth)\n",
    "    ax.invert_yaxis()"
   ]
  },
  {
   "cell_type": "code",
   "execution_count": 21,
   "metadata": {
    "scrolled": true
   },
   "outputs": [],
   "source": [
    "well1 = master_processing(master, '2А033') #finished\n",
    "well2 = master_processing(master1, '2А274') #liner's being drilled\n",
    "well3 = master_processing(master2, '2А241') #liner\n",
    "well4 = master_processing(master3, '2А284') #finished\n",
    "well5 = master_processing(master4, '4А164') #liner\n",
    "well6 = master_processing(master5, '4А231') #exp\n",
    "well7 = master_processing(master6, '5А104') #exp\n",
    "well8 = master_processing(master7, '5А153') #finished\n",
    "well9 = master_processing(master8, '5А164') #exp\n",
    "well10 = master_processing(master9, '2А271БИС') #cond"
   ]
  },
  {
   "cell_type": "code",
   "execution_count": 17,
   "metadata": {},
   "outputs": [
    {
     "data": {
      "text/html": [
       "<div>\n",
       "<style scoped>\n",
       "    .dataframe tbody tr th:only-of-type {\n",
       "        vertical-align: middle;\n",
       "    }\n",
       "\n",
       "    .dataframe tbody tr th {\n",
       "        vertical-align: top;\n",
       "    }\n",
       "\n",
       "    .dataframe thead th {\n",
       "        text-align: right;\n",
       "    }\n",
       "</style>\n",
       "<table border=\"1\" class=\"dataframe\">\n",
       "  <thead>\n",
       "    <tr style=\"text-align: right;\">\n",
       "      <th></th>\n",
       "      <th>Section</th>\n",
       "      <th>Depth</th>\n",
       "      <th>Acc_time</th>\n",
       "      <th>Time</th>\n",
       "      <th>Penetration</th>\n",
       "      <th>Operation</th>\n",
       "    </tr>\n",
       "  </thead>\n",
       "  <tbody>\n",
       "    <tr>\n",
       "      <th>0</th>\n",
       "      <td>Кондуктор</td>\n",
       "      <td>0.0</td>\n",
       "      <td>0.041667</td>\n",
       "      <td>1.000000</td>\n",
       "      <td>0.0</td>\n",
       "      <td>БМР</td>\n",
       "    </tr>\n",
       "    <tr>\n",
       "      <th>1</th>\n",
       "      <td>Кондуктор</td>\n",
       "      <td>438.0</td>\n",
       "      <td>0.625000</td>\n",
       "      <td>14.000000</td>\n",
       "      <td>438.0</td>\n",
       "      <td>Бурение</td>\n",
       "    </tr>\n",
       "    <tr>\n",
       "      <th>2</th>\n",
       "      <td>Кондуктор</td>\n",
       "      <td>456.0</td>\n",
       "      <td>0.652778</td>\n",
       "      <td>0.666667</td>\n",
       "      <td>18.0</td>\n",
       "      <td>Бурение</td>\n",
       "    </tr>\n",
       "    <tr>\n",
       "      <th>3</th>\n",
       "      <td>Кондуктор</td>\n",
       "      <td>456.0</td>\n",
       "      <td>0.670139</td>\n",
       "      <td>0.416667</td>\n",
       "      <td>0.0</td>\n",
       "      <td>БМР</td>\n",
       "    </tr>\n",
       "    <tr>\n",
       "      <th>4</th>\n",
       "      <td>Кондуктор</td>\n",
       "      <td>456.0</td>\n",
       "      <td>0.753472</td>\n",
       "      <td>2.000000</td>\n",
       "      <td>0.0</td>\n",
       "      <td>БМР</td>\n",
       "    </tr>\n",
       "    <tr>\n",
       "      <th>...</th>\n",
       "      <td>...</td>\n",
       "      <td>...</td>\n",
       "      <td>...</td>\n",
       "      <td>...</td>\n",
       "      <td>...</td>\n",
       "      <td>...</td>\n",
       "    </tr>\n",
       "    <tr>\n",
       "      <th>434</th>\n",
       "      <td>Хвостовик</td>\n",
       "      <td>3997.0</td>\n",
       "      <td>63.583333</td>\n",
       "      <td>8.500000</td>\n",
       "      <td>0.0</td>\n",
       "      <td>БМР</td>\n",
       "    </tr>\n",
       "    <tr>\n",
       "      <th>435</th>\n",
       "      <td>Хвостовик</td>\n",
       "      <td>3997.0</td>\n",
       "      <td>63.625000</td>\n",
       "      <td>1.000000</td>\n",
       "      <td>0.0</td>\n",
       "      <td>БМР</td>\n",
       "    </tr>\n",
       "    <tr>\n",
       "      <th>436</th>\n",
       "      <td>Хвостовик</td>\n",
       "      <td>3997.0</td>\n",
       "      <td>63.833333</td>\n",
       "      <td>5.000000</td>\n",
       "      <td>0.0</td>\n",
       "      <td>БМР</td>\n",
       "    </tr>\n",
       "    <tr>\n",
       "      <th>437</th>\n",
       "      <td>Хвостовик</td>\n",
       "      <td>3997.0</td>\n",
       "      <td>64.458333</td>\n",
       "      <td>15.000000</td>\n",
       "      <td>0.0</td>\n",
       "      <td>БМР</td>\n",
       "    </tr>\n",
       "    <tr>\n",
       "      <th>438</th>\n",
       "      <td>Хвостовик</td>\n",
       "      <td>3997.0</td>\n",
       "      <td>64.625000</td>\n",
       "      <td>4.000000</td>\n",
       "      <td>0.0</td>\n",
       "      <td>БМР</td>\n",
       "    </tr>\n",
       "  </tbody>\n",
       "</table>\n",
       "<p>439 rows × 6 columns</p>\n",
       "</div>"
      ],
      "text/plain": [
       "       Section   Depth   Acc_time       Time  Penetration Operation\n",
       "0    Кондуктор     0.0   0.041667   1.000000          0.0       БМР\n",
       "1    Кондуктор   438.0   0.625000  14.000000        438.0   Бурение\n",
       "2    Кондуктор   456.0   0.652778   0.666667         18.0   Бурение\n",
       "3    Кондуктор   456.0   0.670139   0.416667          0.0       БМР\n",
       "4    Кондуктор   456.0   0.753472   2.000000          0.0       БМР\n",
       "..         ...     ...        ...        ...          ...       ...\n",
       "434  Хвостовик  3997.0  63.583333   8.500000          0.0       БМР\n",
       "435  Хвостовик  3997.0  63.625000   1.000000          0.0       БМР\n",
       "436  Хвостовик  3997.0  63.833333   5.000000          0.0       БМР\n",
       "437  Хвостовик  3997.0  64.458333  15.000000          0.0       БМР\n",
       "438  Хвостовик  3997.0  64.625000   4.000000          0.0       БМР\n",
       "\n",
       "[439 rows x 6 columns]"
      ]
     },
     "execution_count": 17,
     "metadata": {},
     "output_type": "execute_result"
    }
   ],
   "source": [
    "well1"
   ]
  },
  {
   "cell_type": "code",
   "execution_count": 23,
   "metadata": {
    "scrolled": true
   },
   "outputs": [
    {
     "data": {
      "text/plain": [
       "64.28571428571429"
      ]
     },
     "execution_count": 23,
     "metadata": {},
     "output_type": "execute_result"
    }
   ],
   "source": [
    "#fastest speed of conducter drilling\n",
    "v = []\n",
    "for i in range(len(well1.Depth)):\n",
    "    if well1.Section[i] == 'Кондуктор':\n",
    "        if well1.Operation[i] == 'Бурение':\n",
    "            v.append(well1.Penetration[i]/well1.Time[i])\n",
    "for i in range(len(well8.Depth)):\n",
    "    if well8.Section[i] == 'Кондуктор':\n",
    "        if well8.Operation[i] == 'Бурение':\n",
    "            v.append(well8.Penetration[i]/well8.Time[i])\n",
    "for i in range(len(well2.Depth)):\n",
    "    if well2.Section[i] == 'Кондуктор':\n",
    "        if well2.Operation[i] == 'Бурение':\n",
    "            v.append(well2.Penetration[i]/well2.Time[i])            \n",
    "for i in range(len(well3.Depth)):\n",
    "    if well3.Section[i] == 'Кондуктор':\n",
    "        if well3.Operation[i] == 'Бурение':\n",
    "            v.append(well3.Penetration[i]/well3.Time[i])            \n",
    "for i in range(len(well4.Depth)):\n",
    "    if well4.Section[i] == 'Кондуктор':\n",
    "        if well4.Operation[i] == 'Бурение':\n",
    "            v.append(well4.Penetration[i]/well4.Time[i])            \n",
    "for i in range(len(well5.Depth)):\n",
    "    if well5.Section[i] == 'Кондуктор':\n",
    "        if well5.Operation[i] == 'Бурение':\n",
    "            v.append(well5.Penetration[i]/well5.Time[i])            \n",
    "for i in range(len(well6.Depth)):\n",
    "    if well6.Section[i] == 'Кондуктор':\n",
    "        if well6.Operation[i] == 'Бурение':\n",
    "            v.append(well6.Penetration[i]/well6.Time[i])           \n",
    "for i in range(len(well7.Depth)):\n",
    "    if well7.Section[i] == 'Кондуктор':\n",
    "        if well7.Operation[i] == 'Бурение':\n",
    "            v.append(well7.Penetration[i]/well7.Time[i])\n",
    "for i in range(len(well9.Depth)):\n",
    "    if well9.Section[i] == 'Кондуктор':\n",
    "        if well9.Operation[i] == 'Бурение':\n",
    "            v.append(well9.Penetration[i]/well9.Time[i])\n",
    "max(v)"
   ]
  },
  {
   "cell_type": "code",
   "execution_count": 40,
   "metadata": {},
   "outputs": [
    {
     "data": {
      "text/plain": [
       "445.7142857142858"
      ]
     },
     "execution_count": 40,
     "metadata": {},
     "output_type": "execute_result"
    }
   ],
   "source": [
    "#fastest speed of technical drilling\n",
    "vt = []\n",
    "for i in range(len(well1.Depth)):\n",
    "    if well1.Section[i] == 'ТК':\n",
    "        if well1.Operation[i] == 'Бурение':\n",
    "            vt.append(well1.Penetration[i]/well1.Time[i])\n",
    "for i in range(len(well8.Depth)):\n",
    "    if well8.Section[i] == 'ТК':\n",
    "        if well8.Operation[i] == 'Бурение':\n",
    "            vt.append(well8.Penetration[i]/well8.Time[i])\n",
    "for i in range(len(well2.Depth)):\n",
    "    if well2.Section[i] == 'ТК':\n",
    "        if well2.Operation[i] == 'Бурение':\n",
    "            vt.append(well2.Penetration[i]/well2.Time[i])            \n",
    "for i in range(len(well3.Depth)):\n",
    "    if well3.Section[i] == 'ТК':\n",
    "        if well3.Operation[i] == 'Бурение':\n",
    "            vt.append(well3.Penetration[i]/well3.Time[i]) \n",
    "for i in range(len(well4.Depth)):\n",
    "    if well4.Section[i] == 'ТК':\n",
    "        if well4.Operation[i] == 'Бурение':\n",
    "            vt.append(well4.Penetration[i]/well4.Time[i])            \n",
    "for i in range(len(well5.Depth)):\n",
    "    if well5.Section[i] == 'ТК':\n",
    "        if well5.Operation[i] == 'Бурение':\n",
    "            vt.append(well5.Penetration[i]/well5.Time[i])            \n",
    "for i in range(len(well6.Depth)):\n",
    "    if well6.Section[i] == 'ТК':\n",
    "        if well6.Operation[i] == 'Бурение':\n",
    "            vt.append(well6.Penetration[i]/well6.Time[i])            \n",
    "for i in range(len(well7.Depth)):\n",
    "    if well7.Section[i] == 'ТК':\n",
    "        if well7.Operation[i] == 'Бурение':\n",
    "            vt.append(well7.Penetration[i]/well7.Time[i])\n",
    "for i in range(len(well9.Depth)):\n",
    "    if well9.Section[i] == 'ТК':\n",
    "        if well9.Operation[i] == 'Бурение':\n",
    "            vt.append(well9.Penetration[i]/well9.Time[i])\n",
    "max(vt)"
   ]
  },
  {
   "cell_type": "code",
   "execution_count": 47,
   "metadata": {},
   "outputs": [
    {
     "data": {
      "text/plain": [
       "66.44444444444441"
      ]
     },
     "execution_count": 47,
     "metadata": {},
     "output_type": "execute_result"
    }
   ],
   "source": [
    "#fastest speed of exp drilling\n",
    "ve = []\n",
    "for i in range(len(well1.Depth)):\n",
    "    if well1.Section[i] == 'ЭК':\n",
    "        if well1.Operation[i] == 'Бурение':\n",
    "            ve.append(well1.Penetration[i]/well1.Time[i])\n",
    "for i in range(len(well8.Depth)):\n",
    "    if well8.Section[i] == 'ЭК':\n",
    "        if well8.Operation[i] == 'Бурение':\n",
    "            ve.append(well8.Penetration[i]/well8.Time[i])\n",
    "for i in range(len(well2.Depth)):\n",
    "    if well2.Section[i] == 'ЭК':\n",
    "        if well2.Operation[i] == 'Бурение':\n",
    "            ve.append(well2.Penetration[i]/well2.Time[i])            \n",
    "for i in range(len(well3.Depth)):\n",
    "    if well3.Section[i] == 'ЭК':\n",
    "        if well3.Operation[i] == 'Бурение':\n",
    "            ve.append(well3.Penetration[i]/well3.Time[i]) \n",
    "for i in range(len(well4.Depth)):\n",
    "    if well4.Section[i] == 'ЭК':\n",
    "        if well4.Operation[i] == 'Бурение':\n",
    "            ve.append(well4.Penetration[i]/well4.Time[i])            \n",
    "for i in range(len(well5.Depth)):\n",
    "    if well5.Section[i] == 'ЭК':\n",
    "        if well5.Operation[i] == 'Бурение':\n",
    "            ve.append(well5.Penetration[i]/well5.Time[i])\n",
    "max(ve)"
   ]
  },
  {
   "cell_type": "code",
   "execution_count": 96,
   "metadata": {},
   "outputs": [
    {
     "data": {
      "text/plain": [
       "[3.627906976744186,\n",
       " 3.4444444444444446,\n",
       " 4.3478260869565215,\n",
       " 8.210526315789489,\n",
       " 8.000000000000014,\n",
       " 9.428571428571418,\n",
       " 10.153846153846153,\n",
       " 6.0,\n",
       " 8.0,\n",
       " 2.1599999999999997,\n",
       " 12.000000000000043,\n",
       " 4.3999999999999995,\n",
       " 5.85,\n",
       " 4.999999999999998,\n",
       " 2.236842105263158,\n",
       " 1.2222222222222223]"
      ]
     },
     "execution_count": 96,
     "metadata": {},
     "output_type": "execute_result"
    }
   ],
   "source": [
    "#fastest speed of liner drilling\n",
    "vl = []\n",
    "for i in range(len(well1.Depth)):\n",
    "    if well1.Section[i] == 'Хвостовик':\n",
    "        if well1.Operation[i] == 'Бурение':\n",
    "            vl.append(well1.Penetration[i]/well1.Time[i])\n",
    "for i in range(len(well8.Depth)):\n",
    "    if well8.Section[i] == 'Хвостовик':\n",
    "        if well8.Operation[i] == 'Бурение':\n",
    "            vl.append(well8.Penetration[i]/well8.Time[i])\n",
    "for i in range(len(well4.Depth)):\n",
    "    if well4.Section[i] == 'Хвостовик':\n",
    "        if well4.Operation[i] == 'Бурение':\n",
    "            vl.append(well4.Penetration[i]/well4.Time[i])            \n",
    "max"
   ]
  },
  {
   "cell_type": "code",
   "execution_count": 68,
   "metadata": {},
   "outputs": [
    {
     "data": {
      "text/plain": [
       "442.51979166666666"
      ]
     },
     "execution_count": 68,
     "metadata": {},
     "output_type": "execute_result"
    }
   ],
   "source": [
    "#average conductor depth\n",
    "cond_Depth = []\n",
    "for i in range(1,len(well1.Depth)):\n",
    "    if well1.Section[i] == 'Кондуктор':\n",
    "        if well1.Depth[i] == well1.Depth[i-1]:\n",
    "            cond_Depth.append(well1.Depth[i])\n",
    "for i in range(1,len(well2.Depth)):\n",
    "    if well2.Section[i] == 'Кондуктор':\n",
    "        if well2.Depth[i] == well2.Depth[i-1]:\n",
    "            cond_Depth.append(well2.Depth[i])\n",
    "for i in range(1,len(well3.Depth)):\n",
    "    if well3.Section[i] == 'Кондуктор':\n",
    "        if well3.Depth[i] == well3.Depth[i-1]:\n",
    "            cond_Depth.append(well3.Depth[i])\n",
    "for i in range(1,len(well4.Depth)):\n",
    "    if well4.Section[i] == 'Кондуктор':\n",
    "        if well4.Depth[i] == well4.Depth[i-1]:\n",
    "            cond_Depth.append(well4.Depth[i])\n",
    "for i in range(1,len(well5.Depth)):\n",
    "    if well5.Section[i] == 'Кондуктор':\n",
    "        if well5.Depth[i] == well5.Depth[i-1]:\n",
    "            cond_Depth.append(well5.Depth[i])\n",
    "for i in range(1,len(well6.Depth)):\n",
    "    if well6.Section[i] == 'Кондуктор':\n",
    "        if well6.Depth[i] == well6.Depth[i-1]:\n",
    "            cond_Depth.append(well6.Depth[i])\n",
    "for i in range(1,len(well7.Depth)):\n",
    "    if well7.Section[i] == 'Кондуктор':\n",
    "        if well7.Depth[i] == well7.Depth[i-1]:\n",
    "            cond_Depth.append(well7.Depth[i])\n",
    "for i in range(1,len(well8.Depth)):\n",
    "    if well8.Section[i] == 'Кондуктор':\n",
    "        if well8.Depth[i] == well8.Depth[i-1]:\n",
    "            cond_Depth.append(well8.Depth[i])\n",
    "for i in range(1,len(well9.Depth)):\n",
    "    if well9.Section[i] == 'Кондуктор':\n",
    "        if well9.Depth[i] == well9.Depth[i-1]:\n",
    "            cond_Depth.append(well9.Depth[i])\n",
    "acd = sum(cond_Depth)/len(cond_Depth)\n",
    "acd"
   ]
  },
  {
   "cell_type": "code",
   "execution_count": 69,
   "metadata": {},
   "outputs": [
    {
     "data": {
      "text/plain": [
       "1444.1563965884734"
      ]
     },
     "execution_count": 69,
     "metadata": {},
     "output_type": "execute_result"
    }
   ],
   "source": [
    "#average technical depth\n",
    "tech_Depth = []\n",
    "for i in range(1,len(well1.Depth)):\n",
    "    if well1.Section[i] == 'ТК':\n",
    "        if well1.Depth[i] == well1.Depth[i-1]:\n",
    "            tech_Depth.append(well1.Depth[i])\n",
    "for i in range(1,len(well2.Depth)):\n",
    "    if well2.Section[i] == 'ТК':\n",
    "        if well2.Depth[i] == well2.Depth[i-1]:\n",
    "            tech_Depth.append(well2.Depth[i])\n",
    "for i in range(1,len(well3.Depth)):\n",
    "    if well3.Section[i] == 'ТК':\n",
    "        if well3.Depth[i] == well3.Depth[i-1]:\n",
    "            tech_Depth.append(well3.Depth[i])\n",
    "for i in range(1,len(well4.Depth)):\n",
    "    if well4.Section[i] == 'ТК':\n",
    "        if well4.Depth[i] == well4.Depth[i-1]:\n",
    "            tech_Depth.append(well4.Depth[i])\n",
    "for i in range(1,len(well5.Depth)):\n",
    "    if well5.Section[i] == 'ТК':\n",
    "        if well5.Depth[i] == well5.Depth[i-1]:\n",
    "            tech_Depth.append(well5.Depth[i])\n",
    "for i in range(1,len(well6.Depth)):\n",
    "    if well6.Section[i] == 'ТК':\n",
    "        if well6.Depth[i] == well6.Depth[i-1]:\n",
    "            tech_Depth.append(well6.Depth[i])\n",
    "for i in range(1,len(well7.Depth)):\n",
    "    if well7.Section[i] == 'ТК':\n",
    "        if well7.Depth[i] == well7.Depth[i-1]:\n",
    "            tech_Depth.append(well7.Depth[i])\n",
    "for i in range(1,len(well8.Depth)):\n",
    "    if well8.Section[i] == 'ТК':\n",
    "        if well8.Depth[i] == well8.Depth[i-1]:\n",
    "            tech_Depth.append(well8.Depth[i])\n",
    "for i in range(1,len(well9.Depth)):\n",
    "    if well9.Section[i] == 'ТК':\n",
    "        if well9.Depth[i] == well9.Depth[i-1]:\n",
    "            tech_Depth.append(well9.Depth[i])\n",
    "atd = sum(tech_Depth)/len(tech_Depth)\n",
    "atd"
   ]
  },
  {
   "cell_type": "code",
   "execution_count": 70,
   "metadata": {},
   "outputs": [
    {
     "data": {
      "text/plain": [
       "3658.5319238900656"
      ]
     },
     "execution_count": 70,
     "metadata": {},
     "output_type": "execute_result"
    }
   ],
   "source": [
    "#average exp depth\n",
    "exp_Depth = []\n",
    "for i in range(1,len(well1.Depth)):\n",
    "    if well1.Section[i] == 'ЭК':\n",
    "        if well1.Depth[i] == well1.Depth[i-1]:\n",
    "            exp_Depth.append(well1.Depth[i])\n",
    "for i in range(1,len(well2.Depth)):\n",
    "    if well2.Section[i] == 'ЭК':\n",
    "        if well2.Depth[i] == well2.Depth[i-1]:\n",
    "            exp_Depth.append(well2.Depth[i])\n",
    "for i in range(1,len(well3.Depth)):\n",
    "    if well3.Section[i] == 'ЭК':\n",
    "        if well3.Depth[i] == well3.Depth[i-1]:\n",
    "            exp_Depth.append(well3.Depth[i])\n",
    "for i in range(1,len(well4.Depth)):\n",
    "    if well4.Section[i] == 'ЭК':\n",
    "        if well4.Depth[i] == well4.Depth[i-1]:\n",
    "            exp_Depth.append(well4.Depth[i])\n",
    "for i in range(1,len(well5.Depth)):\n",
    "    if well5.Section[i] == 'ЭК':\n",
    "        if well5.Depth[i] == well5.Depth[i-1]:\n",
    "            exp_Depth.append(well5.Depth[i])\n",
    "for i in range(1,len(well8.Depth)):\n",
    "    if well8.Section[i] == 'ЭК':\n",
    "        if well8.Depth[i] == well8.Depth[i-1]:\n",
    "            exp_Depth.append(well8.Depth[i])\n",
    "aed = sum(exp_Depth)/len(exp_Depth)\n",
    "aed"
   ]
  },
  {
   "cell_type": "code",
   "execution_count": 71,
   "metadata": {},
   "outputs": [
    {
     "data": {
      "text/plain": [
       "4081.3152985074626"
      ]
     },
     "execution_count": 71,
     "metadata": {},
     "output_type": "execute_result"
    }
   ],
   "source": [
    "#average liner depth\n",
    "liner_Depth = []\n",
    "for i in range(1,len(well1.Depth)):\n",
    "    if well1.Section[i] == 'Хвотовик':\n",
    "        if well1.Depth[i] == well1.Depth[i-1]:\n",
    "            liner_Depth.append(well1.Depth[i])\n",
    "for i in range(1,len(well4.Depth)):\n",
    "    if well4.Section[i] == 'Хвостовик':\n",
    "        if well4.Depth[i] == well4.Depth[i-1]:\n",
    "            liner_Depth.append(well4.Depth[i])\n",
    "for i in range(1,len(well8.Depth)):\n",
    "    if well8.Section[i] == 'Хвостовик':\n",
    "        if well8.Depth[i] == well8.Depth[i-1]:\n",
    "            liner_Depth.append(well8.Depth[i])\n",
    "ald = sum(liner_Depth)/len(liner_Depth)\n",
    "ald"
   ]
  },
  {
   "cell_type": "code",
   "execution_count": 54,
   "metadata": {},
   "outputs": [
    {
     "data": {
      "text/plain": [
       "4.125"
      ]
     },
     "execution_count": 54,
     "metadata": {},
     "output_type": "execute_result"
    }
   ],
   "source": [
    "#fastest speed of no metric work on conductor\n",
    "vc1 = 0\n",
    "vc2 = 0\n",
    "vc3 = 0\n",
    "vc4 = 0\n",
    "vc5 = 0\n",
    "vc6 = 0 \n",
    "vc7 = 0\n",
    "vc8 = 0\n",
    "vc9 = 0\n",
    "NMW_cond = []\n",
    "for i in range(len(well1.Depth)):\n",
    "    if well1.Section[i] == 'Кондуктор':\n",
    "        if well1.Operation[i] == 'БМР':\n",
    "            vc1 = vc1 + well1.Time[i]\n",
    "NMW_cond.append(vc1)\n",
    "for i in range(len(well8.Depth)):\n",
    "    if well8.Section[i] == 'Кондуктор':\n",
    "        if well8.Operation[i] == 'БМР':\n",
    "            vc8 = vc8 + well8.Time[i]\n",
    "NMW_cond.append(vc8)\n",
    "for i in range(len(well2.Depth)):\n",
    "    if well2.Section[i] == 'Кондуктор':\n",
    "        if well2.Operation[i] == 'БМР':\n",
    "            vc2 = vc2 + well2.Time[i]\n",
    "NMW_cond.append(vc2)            \n",
    "for i in range(len(well3.Depth)):\n",
    "    if well3.Section[i] == 'Кондуктор':\n",
    "        if well3.Operation[i] == 'БМР':\n",
    "            vc3 = vc3 + well3.Time[i]\n",
    "NMW_cond.append(vc3)            \n",
    "for i in range(len(well4.Depth)):\n",
    "    if well4.Section[i] == 'Кондуктор':\n",
    "        if well4.Operation[i] == 'БМР':\n",
    "            vc4 = vc4 + well4.Time[i]\n",
    "NMW_cond.append(vc4)            \n",
    "for i in range(len(well5.Depth)):\n",
    "    if well5.Section[i] == 'Кондуктор':\n",
    "        if well5.Operation[i] == 'БМР':\n",
    "            vc5 = vc5 + well5.Time[i]\n",
    "NMW_cond.append(vc5)            \n",
    "for i in range(len(well6.Depth)):\n",
    "    if well6.Section[i] == 'Кондуктор':\n",
    "        if well6.Operation[i] == 'БМР':\n",
    "            vc6 = vc6 + well6.Time[i]\n",
    "NMW_cond.append(vc6)            \n",
    "for i in range(len(well7.Depth)):\n",
    "    if well7.Section[i] == 'Кондуктор':\n",
    "        if well7.Operation[i] == 'БМР':\n",
    "            vc7 = vc7 + well7.Time[i]\n",
    "NMW_cond.append(vc7)\n",
    "for i in range(len(well9.Depth)):\n",
    "    if well9.Section[i] == 'Кондуктор':\n",
    "        if well9.Operation[i] == 'БМР':\n",
    "            vc9 = vc9 + well8.Time[i]\n",
    "NMW_cond.append(vc9)\n",
    "min(NMW_cond)/24"
   ]
  },
  {
   "cell_type": "code",
   "execution_count": 56,
   "metadata": {},
   "outputs": [
    {
     "data": {
      "text/plain": [
       "4.14236111111111"
      ]
     },
     "execution_count": 56,
     "metadata": {},
     "output_type": "execute_result"
    }
   ],
   "source": [
    "#no metric on technical\n",
    "vt1 = 0\n",
    "vt2 = 0\n",
    "vt3 = 0\n",
    "vt4 = 0\n",
    "vt5 = 0\n",
    "vt6 = 0 \n",
    "vt7 = 0\n",
    "vt8 = 0\n",
    "vt9 = 0\n",
    "NMW_tech = []\n",
    "for i in range(len(well1.Depth)):\n",
    "    if well1.Section[i] == 'ТК':\n",
    "        if well1.Operation[i] == 'БМР':\n",
    "            vt1 = vt1 + well1.Time[i]\n",
    "NMW_tech.append(vt1)\n",
    "for i in range(len(well8.Depth)):\n",
    "    if well8.Section[i] == 'ТК':\n",
    "        if well8.Operation[i] == 'БМР':\n",
    "            vt8 = vt8 + well8.Time[i]\n",
    "NMW_tech.append(vt8)\n",
    "for i in range(len(well2.Depth)):\n",
    "    if well2.Section[i] == 'ТК':\n",
    "        if well2.Operation[i] == 'БМР':\n",
    "            vt2 = vt2 + well2.Time[i]\n",
    "NMW_tech.append(vt2)            \n",
    "for i in range(len(well3.Depth)):\n",
    "    if well3.Section[i] == 'ТК':\n",
    "        if well3.Operation[i] == 'БМР':\n",
    "            vt3 = vt3 + well3.Time[i]\n",
    "NMW_tech.append(vt3)            \n",
    "for i in range(len(well4.Depth)):\n",
    "    if well4.Section[i] == 'ТК':\n",
    "        if well4.Operation[i] == 'БМР':\n",
    "            vt4 = vt4 + well4.Time[i]\n",
    "NMW_tech.append(vt4)            \n",
    "for i in range(len(well5.Depth)):\n",
    "    if well5.Section[i] == 'ТК':\n",
    "        if well5.Operation[i] == 'БМР':\n",
    "            vt5 = vt5 + well5.Time[i]\n",
    "NMW_tech.append(vt5)            \n",
    "for i in range(len(well6.Depth)):\n",
    "    if well6.Section[i] == 'ТК':\n",
    "        if well6.Operation[i] == 'БМР':\n",
    "            vt6 = vt6 + well6.Time[i]\n",
    "NMW_tech.append(vt6)            \n",
    "for i in range(len(well7.Depth)):\n",
    "    if well7.Section[i] == 'ТК':\n",
    "        if well7.Operation[i] == 'БМР':\n",
    "            vt7 = vt7 + well7.Time[i]\n",
    "NMW_tech.append(vt7)\n",
    "for i in range(len(well9.Depth)):\n",
    "    if well9.Section[i] == 'ТК':\n",
    "        if well9.Operation[i] == 'БМР':\n",
    "            vt9 = vt9 + well8.Time[i]\n",
    "NMW_tech.append(vt9)\n",
    "min(NMW_tech)/24"
   ]
  },
  {
   "cell_type": "code",
   "execution_count": 61,
   "metadata": {},
   "outputs": [
    {
     "data": {
      "text/plain": [
       "10.565972222222223"
      ]
     },
     "execution_count": 61,
     "metadata": {},
     "output_type": "execute_result"
    }
   ],
   "source": [
    "#no metrical on exp\n",
    "ve1 = 0\n",
    "ve2 = 0\n",
    "ve3 = 0\n",
    "ve4 = 0\n",
    "ve5 = 0\n",
    "ve8 = 0\n",
    "NMW_exp = []\n",
    "for i in range(len(well1.Depth)):\n",
    "    if well1.Section[i] == 'ЭК':\n",
    "        if well1.Operation[i] == 'БМР':\n",
    "            ve1 = ve1 + well1.Time[i]\n",
    "NMW_exp.append(ve1)\n",
    "for i in range(len(well8.Depth)):\n",
    "    if well8.Section[i] == 'ЭК':\n",
    "        if well8.Operation[i] == 'БМР':\n",
    "            ve8 = ve8 + well8.Time[i]\n",
    "NMW_exp.append(ve8)\n",
    "for i in range(len(well2.Depth)):\n",
    "    if well2.Section[i] == 'ЭК':\n",
    "        if well2.Operation[i] == 'БМР':\n",
    "            ve2 = ve2 + well2.Time[i]\n",
    "NMW_exp.append(ve2)            \n",
    "for i in range(len(well3.Depth)):\n",
    "    if well3.Section[i] == 'ЭК':\n",
    "        if well3.Operation[i] == 'БМР':\n",
    "            ve3 = ve3 + well3.Time[i]\n",
    "NMW_exp.append(ve3)            \n",
    "for i in range(len(well4.Depth)):\n",
    "    if well4.Section[i] == 'ЭК':\n",
    "        if well4.Operation[i] == 'БМР':\n",
    "            ve4 = ve4 + well4.Time[i]\n",
    "NMW_exp.append(ve4)            \n",
    "for i in range(len(well5.Depth)):\n",
    "    if well5.Section[i] == 'ЭК':\n",
    "        if well5.Operation[i] == 'БМР':\n",
    "            ve5 = ve5 + well5.Time[i]\n",
    "NMW_exp.append(ve5)\n",
    "min(NMW_exp)/24"
   ]
  },
  {
   "cell_type": "code",
   "execution_count": 63,
   "metadata": {},
   "outputs": [
    {
     "data": {
      "text/plain": [
       "15.604166666666666"
      ]
     },
     "execution_count": 63,
     "metadata": {},
     "output_type": "execute_result"
    }
   ],
   "source": [
    "#no metric work on liner\n",
    "vl1 = 0\n",
    "vl4 = 0\n",
    "vl8 = 0\n",
    "NMW_liner = []\n",
    "for i in range(len(well1.Depth)):\n",
    "    if well1.Section[i] == 'Хвостовик':\n",
    "        if well1.Operation[i] == 'БМР':\n",
    "            vl1 = vl1 + well1.Time[i]\n",
    "NMW_liner.append(vl1)\n",
    "for i in range(len(well8.Depth)):\n",
    "    if well8.Section[i] == 'Хвостовик':\n",
    "        if well8.Operation[i] == 'БМР':\n",
    "            vl8 = vl8 + well8.Time[i]\n",
    "NMW_liner.append(vl8)         \n",
    "for i in range(len(well4.Depth)):\n",
    "    if well4.Section[i] == 'Хвостовик':\n",
    "        if well4.Operation[i] == 'БМР':\n",
    "            vl4 = vl4 + well4.Time[i]\n",
    "NMW_liner.append(vl4)\n",
    "min(NMW_liner)/24"
   ]
  },
  {
   "cell_type": "code",
   "execution_count": 105,
   "metadata": {},
   "outputs": [],
   "source": [
    "#operation time\n",
    "t1 = [acd/max(v)/24,min(NMW_cond)/24, (atd-acd)/max(vt)/24,min(NMW_tech)/24, (aed-atd)/max(ve)/24,min(NMW_exp)/24, (ald-aed)/max(vl)/24,min(NMW_liner)/24]\n",
    "depth = [0,acd,acd, atd,atd, aed,aed, ald,ald]\n",
    "t = [0]\n",
    "for i in range(len(t1)):\n",
    "    t.append(t[i]+t1[i])"
   ]
  },
  {
   "cell_type": "code",
   "execution_count": 109,
   "metadata": {},
   "outputs": [],
   "source": [
    "def plot_wells(t,depth,well1,well2,well3):\n",
    "    fig, ax = plt.subplots(1,1,figsize=(12,12))\n",
    "    ax.set_title('Depth vs Accumulated time')\n",
    "    ax.set_xlabel('Accumulated time, days')\n",
    "    ax.set_ylabel('Depth, m')\n",
    "    ax.plot(well1.Acc_time, well1.Depth, c='r', label='2A033')\n",
    "    ax.plot(well2.Acc_time, well2.Depth, c='k', label='2А284')\n",
    "    ax.plot(well3.Acc_time, well3.Depth, c='b', label='5А153')\n",
    "    ax.plot(t,depth, c = 'g', label='Technical limit')\n",
    "    ax.invert_yaxis()\n",
    "    ax.legend()"
   ]
  },
  {
   "cell_type": "code",
   "execution_count": 110,
   "metadata": {},
   "outputs": [
    {
     "data": {
      "image/png": "[encoded data removed]",
      "text/plain": [
       "<Figure size 864x864 with 1 Axes>"
      ]
     },
     "metadata": {},
     "output_type": "display_data"
    }
   ],
   "source": [
    "plot_wells(t,depth,well1,well4,well8)"
   ]
  },
  {
   "cell_type": "code",
   "execution_count": 22,
   "metadata": {},
   "outputs": [
    {
     "data": {
      "image/png": "[encoded data removed]",
      "text/plain": [
       "<Figure size 720x720 with 1 Axes>"
      ]
     },
     "metadata": {},
     "output_type": "display_data"
    }
   ],
   "source": [
    "plot_well(well4)"
   ]
  },
  {
   "cell_type": "code",
   "execution_count": null,
   "metadata": {},
   "outputs": [],
   "source": []
  }
 ],
 "metadata": {
  "kernelspec": {
   "display_name": "Python 3",
   "language": "python",
   "name": "python3"
  },
  "language_info": {
   "codemirror_mode": {
    "name": "ipython",
    "version": 3
   },
   "file_extension": ".py",
   "mimetype": "text/x-python",
   "name": "python",
   "nbconvert_exporter": "python",
   "pygments_lexer": "ipython3",
   "version": "3.7.10"
  },
  "toc": {
   "base_numbering": 1,
   "nav_menu": {},
   "number_sections": true,
   "sideBar": true,
   "skip_h1_title": false,
   "title_cell": "Table of Contents",
   "title_sidebar": "Contents",
   "toc_cell": false,
   "toc_position": {},
   "toc_section_display": true,
   "toc_window_display": false
  }
 },
 "nbformat": 4,
 "nbformat_minor": 4
}
